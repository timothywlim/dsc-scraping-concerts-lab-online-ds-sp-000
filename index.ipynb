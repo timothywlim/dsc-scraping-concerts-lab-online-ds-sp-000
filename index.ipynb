{
 "cells": [
  {
   "cell_type": "markdown",
   "metadata": {},
   "source": [
    "# Scraping Concerts - Lab\n",
    "\n",
    "## Introduction\n",
    "\n",
    "Now that you've seen how to scrape a simple website, it's time to again practice those skills on a full-fledged site!\n",
    "In this lab, you'll practice your scraping skills on a music website: https://www.residentadvisor.net.\n",
    "## Objectives\n",
    "\n",
    "You will be able to:\n",
    "* Create a full scraping pipeline that involves traversing over many pages of a website, dealing with errors and storing data"
   ]
  },
  {
   "cell_type": "markdown",
   "metadata": {},
   "source": [
    "## View the Website\n",
    "\n",
    "For this lab, you'll be scraping the https://www.residentadvisor.net website. Start by navigating to the events page [here](https://www.residentadvisor.net/events) in your browser.\n",
    "\n",
    "<img src=\"images/ra.png\">"
   ]
  },
  {
   "cell_type": "code",
   "execution_count": 7,
   "metadata": {
    "ExecuteTime": {
     "end_time": "2020-07-01T18:09:14.748518Z",
     "start_time": "2020-07-01T18:09:14.744072Z"
    }
   },
   "outputs": [],
   "source": [
    "# Load the https://www.residentadvisor.net/events page in your browser.\n",
    "import requests\n",
    "from bs4 import BeautifulSoup"
   ]
  },
  {
   "cell_type": "markdown",
   "metadata": {},
   "source": [
    "## Open the Inspect Element Feature\n",
    "\n",
    "Next, open the inspect element feature from your web browser in order to preview the underlying HTML associated with the page."
   ]
  },
  {
   "cell_type": "code",
   "execution_count": 2,
   "metadata": {
    "ExecuteTime": {
     "end_time": "2020-07-01T17:57:34.039887Z",
     "start_time": "2020-07-01T17:57:32.737402Z"
    }
   },
   "outputs": [],
   "source": [
    "# Open the inspect element feature in your browser\n",
    "response = requests.get(\"https://www.residentadvisor.net/events/us/newyork\")\n",
    "soup = BeautifulSoup(response.content, 'html.parser')"
   ]
  },
  {
   "cell_type": "markdown",
   "metadata": {},
   "source": [
    "## Write a Function to Scrape all of the Events on the Given Page Events Page\n",
    "\n",
    "The function should return a Pandas DataFrame with columns for the Event_Name, Venue, Event_Date and Number_of_Attendees."
   ]
  },
  {
   "cell_type": "code",
   "execution_count": 3,
   "metadata": {
    "ExecuteTime": {
     "end_time": "2020-07-01T17:57:35.944810Z",
     "start_time": "2020-07-01T17:57:35.933941Z"
    }
   },
   "outputs": [],
   "source": [
    "event_listings = soup.find('div', id=\"event-listing\")"
   ]
  },
  {
   "cell_type": "code",
   "execution_count": 4,
   "metadata": {
    "ExecuteTime": {
     "end_time": "2020-07-01T17:57:40.626229Z",
     "start_time": "2020-07-01T17:57:40.620370Z"
    }
   },
   "outputs": [
    {
     "name": "stdout",
     "output_type": "stream",
     "text": [
      "13 <li><p class=\"eventDate date\"><a href=\"/events.aspx?ai=8&amp;v=day&amp;mn=7&amp;yr=2020&amp;dy=3\"><span>Fri, 03 Jul 2020 /</span></a></p></li>\n"
     ]
    }
   ],
   "source": [
    "entries = event_listings.findAll('li')\n",
    "print(len(entries), entries[0])"
   ]
  },
  {
   "cell_type": "code",
   "execution_count": 5,
   "metadata": {
    "ExecuteTime": {
     "end_time": "2020-07-01T17:57:52.317517Z",
     "start_time": "2020-07-01T17:57:51.008218Z"
    }
   },
   "outputs": [],
   "source": [
    "import pandas as pd\n",
    "import numpy as np\n",
    "import re\n",
    "import time"
   ]
  },
  {
   "cell_type": "code",
   "execution_count": 6,
   "metadata": {
    "ExecuteTime": {
     "end_time": "2020-07-01T17:58:07.152382Z",
     "start_time": "2020-07-01T17:58:07.109979Z"
    }
   },
   "outputs": [
    {
     "data": {
      "text/html": [
       "<div>\n",
       "<style scoped>\n",
       "    .dataframe tbody tr th:only-of-type {\n",
       "        vertical-align: middle;\n",
       "    }\n",
       "\n",
       "    .dataframe tbody tr th {\n",
       "        vertical-align: top;\n",
       "    }\n",
       "\n",
       "    .dataframe thead th {\n",
       "        text-align: right;\n",
       "    }\n",
       "</style>\n",
       "<table border=\"1\" class=\"dataframe\">\n",
       "  <thead>\n",
       "    <tr style=\"text-align: right;\">\n",
       "      <th></th>\n",
       "      <th>0</th>\n",
       "      <th>1</th>\n",
       "      <th>2</th>\n",
       "      <th>3</th>\n",
       "    </tr>\n",
       "  </thead>\n",
       "  <tbody>\n",
       "    <tr>\n",
       "      <td>0</td>\n",
       "      <td>Rona ITW Music Festival</td>\n",
       "      <td>North Jersey Forest</td>\n",
       "      <td>Fri, 03 Jul 2020 /</td>\n",
       "      <td>4.0</td>\n",
       "    </tr>\n",
       "    <tr>\n",
       "      <td>1</td>\n",
       "      <td>NYC Independence Day Weekend Yacht Party Cruis...</td>\n",
       "      <td>Skyport Marina</td>\n",
       "      <td>Fri, 03 Jul 2020 /</td>\n",
       "      <td>1.0</td>\n",
       "    </tr>\n",
       "    <tr>\n",
       "      <td>2</td>\n",
       "      <td>NYC July 4th Weekend Hip Hop vs Reggae® Yacht ...</td>\n",
       "      <td>Skyport Marina</td>\n",
       "      <td>Fri, 03 Jul 2020 /</td>\n",
       "      <td>NaN</td>\n",
       "    </tr>\n",
       "    <tr>\n",
       "      <td>3</td>\n",
       "      <td>Rona ITW Music Festival</td>\n",
       "      <td>North Jersey Forest</td>\n",
       "      <td>Sat, 04 Jul 2020 /</td>\n",
       "      <td>4.0</td>\n",
       "    </tr>\n",
       "    <tr>\n",
       "      <td>4</td>\n",
       "      <td>4th of July Independance Fireworks Cruise</td>\n",
       "      <td>Harmony Yacht</td>\n",
       "      <td>Sat, 04 Jul 2020 /</td>\n",
       "      <td>1.0</td>\n",
       "    </tr>\n",
       "  </tbody>\n",
       "</table>\n",
       "</div>"
      ],
      "text/plain": [
       "                                                   0                    1  \\\n",
       "0                            Rona ITW Music Festival  North Jersey Forest   \n",
       "1  NYC Independence Day Weekend Yacht Party Cruis...       Skyport Marina   \n",
       "2  NYC July 4th Weekend Hip Hop vs Reggae® Yacht ...       Skyport Marina   \n",
       "3                            Rona ITW Music Festival  North Jersey Forest   \n",
       "4          4th of July Independance Fireworks Cruise        Harmony Yacht   \n",
       "\n",
       "                    2    3  \n",
       "0  Fri, 03 Jul 2020 /  4.0  \n",
       "1  Fri, 03 Jul 2020 /  1.0  \n",
       "2  Fri, 03 Jul 2020 /  NaN  \n",
       "3  Sat, 04 Jul 2020 /  4.0  \n",
       "4  Sat, 04 Jul 2020 /  1.0  "
      ]
     },
     "execution_count": 6,
     "metadata": {},
     "output_type": "execute_result"
    }
   ],
   "source": [
    "#Successive exploration in function development\n",
    "rows = []\n",
    "for entry in entries:\n",
    "    #Is it a date? If so, set current date.\n",
    "    date = entry.find('p', class_=\"eventDate date\")\n",
    "    event = entry.find('h1', class_=\"event-title\")\n",
    "    if event:\n",
    "        details = event.text.split(' at ')\n",
    "        event_name = details[0].strip()\n",
    "        venue = details[1].strip()\n",
    "        try:\n",
    "            n_attendees = int(re.match(\"(\\d*)\", entry.find('p', class_=\"attending\").text)[0])\n",
    "        except:\n",
    "            n_attendees = np.nan\n",
    "        rows.append([event_name, venue, cur_date, n_attendees])\n",
    "    elif date:\n",
    "        cur_date = date.text\n",
    "    else:\n",
    "        continue\n",
    "df = pd.DataFrame(rows)\n",
    "df.head()"
   ]
  },
  {
   "cell_type": "code",
   "execution_count": 9,
   "metadata": {
    "ExecuteTime": {
     "end_time": "2020-07-01T18:52:08.492471Z",
     "start_time": "2020-07-01T18:52:08.483516Z"
    }
   },
   "outputs": [],
   "source": [
    "def scrape_events(events_page_url):\n",
    "    #Your code here\n",
    "    response = requests.get(events_page_url)\n",
    "    soup = BeautifulSoup(response.content, 'html.parser')\n",
    "    entries = event_listings.findAll('li')\n",
    "    rows = []\n",
    "    for entry in entries:\n",
    "        #Is it a date? If so, set current date.\n",
    "        date = entry.find('p', class_=\"eventDate date\")\n",
    "        event = entry.find('h1', class_=\"event-title\")\n",
    "        if event:\n",
    "            details = event.text.split(' at ')\n",
    "            event_name = details[0].strip()\n",
    "            venue = details[1].strip()\n",
    "            try:\n",
    "                n_attendees = int(re.match(\"(\\d*)\", entry.find('p', class_=\"attending\").text)[0])\n",
    "            except:\n",
    "                n_attendees = np.nan\n",
    "            rows.append([event_name, venue, cur_date, n_attendees])\n",
    "        elif date:\n",
    "            cur_date = date.text\n",
    "        else:\n",
    "            continue\n",
    "    df = pd.DataFrame(rows)\n",
    "    df.head()\n",
    "    df.columns = [\"Event_Name\", \"Venue\", \"Event_Date\", \"Number_of_Attendees\"]\n",
    "    return df"
   ]
  },
  {
   "cell_type": "code",
   "execution_count": 10,
   "metadata": {
    "ExecuteTime": {
     "end_time": "2020-07-01T18:52:25.301378Z",
     "start_time": "2020-07-01T18:52:25.286501Z"
    }
   },
   "outputs": [
    {
     "data": {
      "text/html": [
       "<div>\n",
       "<style scoped>\n",
       "    .dataframe tbody tr th:only-of-type {\n",
       "        vertical-align: middle;\n",
       "    }\n",
       "\n",
       "    .dataframe tbody tr th {\n",
       "        vertical-align: top;\n",
       "    }\n",
       "\n",
       "    .dataframe thead th {\n",
       "        text-align: right;\n",
       "    }\n",
       "</style>\n",
       "<table border=\"1\" class=\"dataframe\">\n",
       "  <thead>\n",
       "    <tr style=\"text-align: right;\">\n",
       "      <th></th>\n",
       "      <th>Event_Name</th>\n",
       "      <th>Venue</th>\n",
       "      <th>Event_Date</th>\n",
       "      <th>Number_of_Attendees</th>\n",
       "    </tr>\n",
       "  </thead>\n",
       "  <tbody>\n",
       "    <tr>\n",
       "      <td>0</td>\n",
       "      <td>Rona ITW Music Festival</td>\n",
       "      <td>North Jersey Forest</td>\n",
       "      <td>Fri, 03 Jul 2020 /</td>\n",
       "      <td>4.0</td>\n",
       "    </tr>\n",
       "    <tr>\n",
       "      <td>1</td>\n",
       "      <td>NYC Independence Day Weekend Yacht Party Cruis...</td>\n",
       "      <td>Skyport Marina</td>\n",
       "      <td>Fri, 03 Jul 2020 /</td>\n",
       "      <td>1.0</td>\n",
       "    </tr>\n",
       "    <tr>\n",
       "      <td>2</td>\n",
       "      <td>NYC July 4th Weekend Hip Hop vs Reggae® Yacht ...</td>\n",
       "      <td>Skyport Marina</td>\n",
       "      <td>Fri, 03 Jul 2020 /</td>\n",
       "      <td>NaN</td>\n",
       "    </tr>\n",
       "    <tr>\n",
       "      <td>3</td>\n",
       "      <td>Rona ITW Music Festival</td>\n",
       "      <td>North Jersey Forest</td>\n",
       "      <td>Sat, 04 Jul 2020 /</td>\n",
       "      <td>4.0</td>\n",
       "    </tr>\n",
       "    <tr>\n",
       "      <td>4</td>\n",
       "      <td>4th of July Independance Fireworks Cruise</td>\n",
       "      <td>Harmony Yacht</td>\n",
       "      <td>Sat, 04 Jul 2020 /</td>\n",
       "      <td>1.0</td>\n",
       "    </tr>\n",
       "    <tr>\n",
       "      <td>5</td>\n",
       "      <td>4th of July Midnight Yacht Cruise</td>\n",
       "      <td>Harbor Lights Yacht</td>\n",
       "      <td>Sat, 04 Jul 2020 /</td>\n",
       "      <td>NaN</td>\n",
       "    </tr>\n",
       "    <tr>\n",
       "      <td>6</td>\n",
       "      <td>4th of July Fireworks Cruise</td>\n",
       "      <td>Cosmo</td>\n",
       "      <td>Sat, 04 Jul 2020 /</td>\n",
       "      <td>NaN</td>\n",
       "    </tr>\n",
       "    <tr>\n",
       "      <td>7</td>\n",
       "      <td>4th of July Independance Fireworks Cruise</td>\n",
       "      <td>Harmony Yacht</td>\n",
       "      <td>Sun, 05 Jul 2020 /</td>\n",
       "      <td>1.0</td>\n",
       "    </tr>\n",
       "    <tr>\n",
       "      <td>8</td>\n",
       "      <td>4th of July Fireworks Cruise</td>\n",
       "      <td>Cosmo</td>\n",
       "      <td>Sun, 05 Jul 2020 /</td>\n",
       "      <td>NaN</td>\n",
       "    </tr>\n",
       "  </tbody>\n",
       "</table>\n",
       "</div>"
      ],
      "text/plain": [
       "                                          Event_Name                Venue  \\\n",
       "0                            Rona ITW Music Festival  North Jersey Forest   \n",
       "1  NYC Independence Day Weekend Yacht Party Cruis...       Skyport Marina   \n",
       "2  NYC July 4th Weekend Hip Hop vs Reggae® Yacht ...       Skyport Marina   \n",
       "3                            Rona ITW Music Festival  North Jersey Forest   \n",
       "4          4th of July Independance Fireworks Cruise        Harmony Yacht   \n",
       "5                  4th of July Midnight Yacht Cruise  Harbor Lights Yacht   \n",
       "6                       4th of July Fireworks Cruise                Cosmo   \n",
       "7          4th of July Independance Fireworks Cruise        Harmony Yacht   \n",
       "8                       4th of July Fireworks Cruise                Cosmo   \n",
       "\n",
       "           Event_Date  Number_of_Attendees  \n",
       "0  Fri, 03 Jul 2020 /                  4.0  \n",
       "1  Fri, 03 Jul 2020 /                  1.0  \n",
       "2  Fri, 03 Jul 2020 /                  NaN  \n",
       "3  Sat, 04 Jul 2020 /                  4.0  \n",
       "4  Sat, 04 Jul 2020 /                  1.0  \n",
       "5  Sat, 04 Jul 2020 /                  NaN  \n",
       "6  Sat, 04 Jul 2020 /                  NaN  \n",
       "7  Sun, 05 Jul 2020 /                  1.0  \n",
       "8  Sun, 05 Jul 2020 /                  NaN  "
      ]
     },
     "execution_count": 10,
     "metadata": {},
     "output_type": "execute_result"
    }
   ],
   "source": [
    "df"
   ]
  },
  {
   "cell_type": "markdown",
   "metadata": {},
   "source": [
    "## Write a Function to Retrieve the URL for the Next Page"
   ]
  },
  {
   "cell_type": "code",
   "execution_count": 12,
   "metadata": {
    "ExecuteTime": {
     "end_time": "2020-07-01T18:54:02.355277Z",
     "start_time": "2020-07-01T18:54:02.350011Z"
    }
   },
   "outputs": [],
   "source": [
    "def next_page(url):\n",
    "    #Your code here\n",
    "    soup = BeautifulSoup(response.content, 'lxml')\n",
    "    url_ext = soup.find('a',attrs={'ga-event-action':\"Next \"}).attrs['href']\n",
    "    next_page_url = \"https://www.residentadvisor.net\" + url_ext\n",
    "    return next_page_url"
   ]
  },
  {
   "cell_type": "markdown",
   "metadata": {},
   "source": [
    "## Scrape the Next 1000 Events for Your Area\n",
    "\n",
    "Display the data sorted by the number of attendees. If there is a tie for the number attending, sort by event date."
   ]
  },
  {
   "cell_type": "code",
   "execution_count": 13,
   "metadata": {
    "ExecuteTime": {
     "end_time": "2020-07-01T18:56:49.120466Z",
     "start_time": "2020-07-01T18:54:19.015916Z"
    }
   },
   "outputs": [
    {
     "name": "stdout",
     "output_type": "stream",
     "text": [
      "1000\n"
     ]
    },
    {
     "data": {
      "text/html": [
       "<div>\n",
       "<style scoped>\n",
       "    .dataframe tbody tr th:only-of-type {\n",
       "        vertical-align: middle;\n",
       "    }\n",
       "\n",
       "    .dataframe tbody tr th {\n",
       "        vertical-align: top;\n",
       "    }\n",
       "\n",
       "    .dataframe thead th {\n",
       "        text-align: right;\n",
       "    }\n",
       "</style>\n",
       "<table border=\"1\" class=\"dataframe\">\n",
       "  <thead>\n",
       "    <tr style=\"text-align: right;\">\n",
       "      <th></th>\n",
       "      <th>Event_Name</th>\n",
       "      <th>Venue</th>\n",
       "      <th>Event_Date</th>\n",
       "      <th>Number_of_Attendees</th>\n",
       "    </tr>\n",
       "  </thead>\n",
       "  <tbody>\n",
       "    <tr>\n",
       "      <td>0</td>\n",
       "      <td>Rona ITW Music Festival</td>\n",
       "      <td>North Jersey Forest</td>\n",
       "      <td>Fri, 03 Jul 2020 /</td>\n",
       "      <td>4.0</td>\n",
       "    </tr>\n",
       "    <tr>\n",
       "      <td>1</td>\n",
       "      <td>NYC Independence Day Weekend Yacht Party Cruis...</td>\n",
       "      <td>Skyport Marina</td>\n",
       "      <td>Fri, 03 Jul 2020 /</td>\n",
       "      <td>1.0</td>\n",
       "    </tr>\n",
       "    <tr>\n",
       "      <td>2</td>\n",
       "      <td>NYC July 4th Weekend Hip Hop vs Reggae® Yacht ...</td>\n",
       "      <td>Skyport Marina</td>\n",
       "      <td>Fri, 03 Jul 2020 /</td>\n",
       "      <td>NaN</td>\n",
       "    </tr>\n",
       "    <tr>\n",
       "      <td>3</td>\n",
       "      <td>Rona ITW Music Festival</td>\n",
       "      <td>North Jersey Forest</td>\n",
       "      <td>Sat, 04 Jul 2020 /</td>\n",
       "      <td>4.0</td>\n",
       "    </tr>\n",
       "    <tr>\n",
       "      <td>4</td>\n",
       "      <td>4th of July Independance Fireworks Cruise</td>\n",
       "      <td>Harmony Yacht</td>\n",
       "      <td>Sat, 04 Jul 2020 /</td>\n",
       "      <td>1.0</td>\n",
       "    </tr>\n",
       "  </tbody>\n",
       "</table>\n",
       "</div>"
      ],
      "text/plain": [
       "                                          Event_Name                Venue  \\\n",
       "0                            Rona ITW Music Festival  North Jersey Forest   \n",
       "1  NYC Independence Day Weekend Yacht Party Cruis...       Skyport Marina   \n",
       "2  NYC July 4th Weekend Hip Hop vs Reggae® Yacht ...       Skyport Marina   \n",
       "3                            Rona ITW Music Festival  North Jersey Forest   \n",
       "4          4th of July Independance Fireworks Cruise        Harmony Yacht   \n",
       "\n",
       "           Event_Date  Number_of_Attendees  \n",
       "0  Fri, 03 Jul 2020 /                  4.0  \n",
       "1  Fri, 03 Jul 2020 /                  1.0  \n",
       "2  Fri, 03 Jul 2020 /                  NaN  \n",
       "3  Sat, 04 Jul 2020 /                  4.0  \n",
       "4  Sat, 04 Jul 2020 /                  1.0  "
      ]
     },
     "execution_count": 13,
     "metadata": {},
     "output_type": "execute_result"
    }
   ],
   "source": [
    "#Your code here\n",
    "dfs = []\n",
    "total_rows = 0\n",
    "cur_url = \"https://www.residentadvisor.net/events/us/newyork\"\n",
    "while total_rows <= 1000:\n",
    "    df = scrape_events(cur_url)\n",
    "    dfs.append(df)\n",
    "    total_rows += len(df)\n",
    "    cur_url = next_page(cur_url)\n",
    "    time.sleep(.2)\n",
    "df = pd.concat(dfs)\n",
    "df = df.iloc[:1000]\n",
    "print(len(df))\n",
    "df.head()"
   ]
  },
  {
   "cell_type": "markdown",
   "metadata": {},
   "source": [
    "## Summary \n",
    "\n",
    "Congratulations! In this lab, you successfully developed a pipeline to scrape a website for concert event information!"
   ]
  }
 ],
 "metadata": {
  "kernelspec": {
   "display_name": "Python 3",
   "language": "python",
   "name": "python3"
  },
  "language_info": {
   "codemirror_mode": {
    "name": "ipython",
    "version": 3
   },
   "file_extension": ".py",
   "mimetype": "text/x-python",
   "name": "python",
   "nbconvert_exporter": "python",
   "pygments_lexer": "ipython3",
   "version": "3.6.9"
  },
  "varInspector": {
   "cols": {
    "lenName": 16,
    "lenType": 16,
    "lenVar": 40
   },
   "kernels_config": {
    "python": {
     "delete_cmd_postfix": "",
     "delete_cmd_prefix": "del ",
     "library": "var_list.py",
     "varRefreshCmd": "print(var_dic_list())"
    },
    "r": {
     "delete_cmd_postfix": ") ",
     "delete_cmd_prefix": "rm(",
     "library": "var_list.r",
     "varRefreshCmd": "cat(var_dic_list()) "
    }
   },
   "types_to_exclude": [
    "module",
    "function",
    "builtin_function_or_method",
    "instance",
    "_Feature"
   ],
   "window_display": false
  }
 },
 "nbformat": 4,
 "nbformat_minor": 2
}
